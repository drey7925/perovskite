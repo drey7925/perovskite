{
 "cells": [
  {
   "cell_type": "code",
   "execution_count": 1,
   "metadata": {},
   "outputs": [],
   "source": [
    "import sympy as sp"
   ]
  },
  {
   "cell_type": "code",
   "execution_count": 2,
   "metadata": {},
   "outputs": [
    {
     "data": {
      "text/plain": [
       "[(2*a*d + vf**2 - vi**2)/(4*a)]"
      ]
     },
     "execution_count": 2,
     "metadata": {},
     "output_type": "execute_result"
    }
   ],
   "source": [
    "vi = sp.symbols('vi')\n",
    "vf = sp.symbols('vf')\n",
    "a = sp.symbols('a')\n",
    "d = sp.symbols('d')\n",
    "\n",
    "d1 = sp.symbols('d1')\n",
    "d2 = d - d1\n",
    "\n",
    "err = sp.sqrt(vi ** 2 + 2 * a * d1) - sp.sqrt(vf ** 2 + 2 * a * d2)\n",
    "sp.solve(err, d1)\n"
   ]
  },
  {
   "cell_type": "code",
   "execution_count": 12,
   "metadata": {},
   "outputs": [
    {
     "name": "stdout",
     "output_type": "stream",
     "text": [
      "d1: 1.0103669333333334 d2: -0.010366933333333384\n",
      "max speed from left 13.495037902873783\n",
      "max speed from right 13.495037902873783\n"
     ]
    }
   ],
   "source": [
    "import math\n",
    "def test(vi, vf, a, d):\n",
    "    d1 = ((2 * a * d) + (vf ** 2) - (vi ** 2)) / (4 * a)\n",
    "    d2 = d - d1\n",
    "    print(\"d1:\", d1, \"d2:\", d2)\n",
    "    print(\"max speed from left\",  math.sqrt(vi ** 2 + 2 * a * d1))\n",
    "    print(\"max speed from right\",  math.sqrt(vf ** 2 + 2 * a * d2))\n",
    "\n",
    "test(0.5, 13.564, 90.0, 1)\n",
    "    \n"
   ]
  }
 ],
 "metadata": {
  "kernelspec": {
   "display_name": "Python 3",
   "language": "python",
   "name": "python3"
  },
  "language_info": {
   "codemirror_mode": {
    "name": "ipython",
    "version": 3
   },
   "file_extension": ".py",
   "mimetype": "text/x-python",
   "name": "python",
   "nbconvert_exporter": "python",
   "pygments_lexer": "ipython3",
   "version": "3.10.7"
  }
 },
 "nbformat": 4,
 "nbformat_minor": 2
}
